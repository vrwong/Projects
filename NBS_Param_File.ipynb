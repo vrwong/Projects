{
 "cells": [
  {
   "cell_type": "code",
   "execution_count": 1,
   "metadata": {
    "collapsed": true
   },
   "outputs": [],
   "source": [
    "import numpy as np"
   ]
  },
  {
   "cell_type": "code",
   "execution_count": 4,
   "metadata": {
    "collapsed": false
   },
   "outputs": [
    {
     "ename": "SyntaxError",
     "evalue": "invalid syntax (<ipython-input-4-9b19e12c0af7>, line 4)",
     "output_type": "error",
     "traceback": [
      "\u001b[1;36m  File \u001b[1;32m\"<ipython-input-4-9b19e12c0af7>\"\u001b[1;36m, line \u001b[1;32m4\u001b[0m\n\u001b[1;33m    \"Mutation Profile\" : \"/cellar/users/wzhang1984/projects/20160608_NBS2/data/pat2mut.txt\",\u001b[0m\n\u001b[1;37m                       ^\u001b[0m\n\u001b[1;31mSyntaxError\u001b[0m\u001b[1;31m:\u001b[0m invalid syntax\n"
     ]
    }
   ],
   "source": [
    "###This is based off of the parameters for OV\n",
    "#Defining the input files and the appropriate output directory\n",
    "file_params = {   \"Input Network\" : \"/cellar/data/users/wzhang1984/forNBS/FIsInGene_031516_with_annotations.txt\"  \n",
    "                  \"Mutation Profile\" : \"/cellar/users/wzhang1984/projects/20160608_NBS2/data/pat2mut.txt\",\n",
    "                  \"Output Directory\" : \"/cellar/users/vrwong/Documents/NBS_New_Results_Test\"}\n",
    "\n",
    "#Setting up the parameters for the calculations and algorithms\n",
    "ccOpts = {\"nsample\": 2,\n",
    "        \"nmf_type\": \"nmf\",\n",
    "        \"cc_type\": \"euclid\", #three types of consensus clustering are 'hard,' 'euclid,' and 'corr.'\n",
    "        \"filterInputs\": True,\n",
    "        \"smp_feat\": 0.8,\n",
    "        \"K\": [4,5,6,7,8],\n",
    "        \"doSummarizeCCmatrix\": 1,\n",
    "        \"dis\": True,\n",
    "        \"isNetwork\": 1,\n",
    "        \"smp_ind\": 0.8, \n",
    "        \"min_indiv\": 10, \n",
    "        \"min_mutations\": 9, \n",
    "        \"normalize_rows\": 1,\n",
    "        \"recalc_cc\": 1,\n",
    "        \"propV\": 0.1}\n",
    "\n",
    "zoptions = { \"tof\": 1e-10,\n",
    "            \"max_iteration\": 1500,\n",
    "            \"testTof\": 3,\n",
    "            \"testTofFirst\": 5}\n",
    "    \n",
    "return_data = { \"propGeno_only\": 0,\n",
    "        \"propGeno_full\": 1,\n",
    "        \"propGeno_iter\": 1,\n",
    "        \"hlist\": 1,\n",
    "        \"wlist\": 1,\n",
    "        \"cc_summary_matrix\": 1,\n",
    "        \"cc_intrinsic_stats\": 1}"
   ]
  },
  {
   "cell_type": "code",
   "execution_count": 5,
   "metadata": {
    "collapsed": true
   },
   "outputs": [],
   "source": [
    "np.save('file_params.npy', file_params) #This will save the dictionaries as .npy files\n",
    "np.save('ccOpts.npy', ccOpts)\n",
    "np.save('zoptions', zoptions)\n",
    "np.save('return_data.npy', return_data)\n",
    "#To reload all the dictionaries simply use file_params = np.load('file_params.npy').item() \n",
    "#Copy and paste following lines to use the dictionaries\n",
    "#file_params = np.load('file_params.npy').item()\n",
    "#ccOpts = np.load('ccOpts.npy').item()\n",
    "#zoptions = np.load('zoptions.npy').item()\n",
    "#return_data = np.load('return_data.npy').item()"
   ]
  }
 ],
 "metadata": {
  "kernelspec": {
   "display_name": "Python 2",
   "language": "python",
   "name": "python2"
  },
  "language_info": {
   "codemirror_mode": {
    "name": "ipython",
    "version": 2
   },
   "file_extension": ".py",
   "mimetype": "text/x-python",
   "name": "python",
   "nbconvert_exporter": "python",
   "pygments_lexer": "ipython2",
   "version": "2.7.11"
  }
 },
 "nbformat": 4,
 "nbformat_minor": 0
}
