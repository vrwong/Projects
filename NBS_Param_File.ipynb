{
 "cells": [
  {
   "cell_type": "code",
   "execution_count": 41,
   "metadata": {
    "collapsed": false
   },
   "outputs": [],
   "source": [
    "###This is based off of the parameters for OV\n",
    "#Defining the input files and the appropriate output directory\n",
    "file_params = {   \"patientFileName\" : \"TCGA_sm_OV_obj.mat\",  \n",
    "                  \"networkFileName\" : \"HN90_edgelist_entrez.mat\",\n",
    "                  \"outputDirectory\" : \"/cellar/users/vrwong/Documents/NBS_Tests_DebugMode\"}\n",
    "\n",
    "#Setting up the parameters for the calculations and algorithms\n",
    "ccOpts = {\"nsample\": 2,\n",
    "        \"nmf_type\": \"nmf\",\n",
    "        \"cc_type\": \"euclid\", #three types of consensus clustering are 'hard,' 'euclid,' and 'corr.'\n",
    "        \"filterInputs\": True,\n",
    "        \"smp_feat\": 0.8,\n",
    "        \"K\": [4,5,6,7,8],\n",
    "        \"doSummarizeCCmatrix\": 1,\n",
    "        \"dis\": True,\n",
    "        \"isNetwork\": 1,\n",
    "        \"smp_ind\": 0.8,\n",
    "        \"min_indiv\": 10,\n",
    "        \"min_mutations\": 9,\n",
    "        \"normalize_rows\": 1,\n",
    "        \"recalc_cc\": 1,\n",
    "        \"propV\": 0.1}\n",
    "\n",
    "zoptions = { \"tof\": 1e-10,\n",
    "            \"max_iteration\": 1500,\n",
    "            \"testTof\": 3,\n",
    "            \"testTofFirst\": 5}\n",
    "    \n",
    "return_data = { \"propGeno_only\": 0,\n",
    "        \"propGeno_full\": 1,\n",
    "        \"propGeno_iter\": 1,\n",
    "        \"hlist\": 1,\n",
    "        \"wlist\": 1,\n",
    "        \"cc_summary_matrix\": 1,\n",
    "        \"cc_intrinsic_stats\": 1}"
   ]
  },
  {
   "cell_type": "code",
   "execution_count": 43,
   "metadata": {
    "collapsed": false
   },
   "outputs": [
    {
     "data": {
      "text/plain": [
       "4"
      ]
     },
     "execution_count": 43,
     "metadata": {},
     "output_type": "execute_result"
    }
   ],
   "source": [
    "ccOpts['K'][0]"
   ]
  },
  {
   "cell_type": "code",
   "execution_count": null,
   "metadata": {
    "collapsed": true
   },
   "outputs": [],
   "source": []
  }
 ],
 "metadata": {
  "kernelspec": {
   "display_name": "Python 2",
   "language": "python",
   "name": "python2"
  },
  "language_info": {
   "codemirror_mode": {
    "name": "ipython",
    "version": 2
   },
   "file_extension": ".py",
   "mimetype": "text/x-python",
   "name": "python",
   "nbconvert_exporter": "python",
   "pygments_lexer": "ipython2",
   "version": "2.7.12"
  }
 },
 "nbformat": 4,
 "nbformat_minor": 0
}
