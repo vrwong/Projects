{
 "cells": [
  {
   "cell_type": "code",
   "execution_count": null,
   "metadata": {
    "collapsed": true
   },
   "outputs": [],
   "source": [
    "###Current clustering goes like\n",
    "#run_nbs => nbs_cc_main() => hmat_to_cc_cluster() => the 'label' functions\n",
    "#Translation flow\n",
    "#Top to bottom, starting with nbs_cc_main()\n",
    "#1. Need to linearize the flow\n",
    "#2. Input run_options, inSMdata, and pNetwork and output a cc_cluster, cc_summary, H, W, sampleData, propGeno\n",
    "#3. Focus solely on the pNetwork and the clustering, ignore lines 18-43, which is all NMF\n",
    "\n",
    "#Down the line, the parameters could be tightened and shortened\n",
    "#No need for nanadd() since Python already takes care of that"
   ]
  },
  {
   "cell_type": "code",
   "execution_count": 156,
   "metadata": {
    "collapsed": false
   },
   "outputs": [
    {
     "ename": "IndentationError",
     "evalue": "expected an indented block (<ipython-input-156-c19063451991>, line 4)",
     "output_type": "error",
     "traceback": [
      "\u001b[1;36m  File \u001b[1;32m\"<ipython-input-156-c19063451991>\"\u001b[1;36m, line \u001b[1;32m4\u001b[0m\n\u001b[1;33m    elif cc_type == 'Soft':\u001b[0m\n\u001b[1;37m       ^\u001b[0m\n\u001b[1;31mIndentationError\u001b[0m\u001b[1;31m:\u001b[0m expected an indented block\n"
     ]
    }
   ],
   "source": [
    "def hmat_to_cc_cluster(cc_type, kvect, H, Nsample_vect, Nind): #Throw in a clustering type, the k value, ...\n",
    "    assert cc_type == 'Hard' or 'Soft' or 'Corr'     # a vector containing the random permutation that spans from 1 to\n",
    "    if cc_type == 'Hard':                            # the number of columns in the SM gene data\n",
    "    elif cc_type == 'Soft':\n",
    "        label_to_ccmat_hard(label, perm_list, Nind)\n",
    "    else: # and number of rows in SM gene data "
   ]
  },
  {
   "cell_type": "code",
   "execution_count": null,
   "metadata": {
    "collapsed": true
   },
   "outputs": [],
   "source": [
    "def Soft_Cluster():"
   ]
  },
  {
   "cell_type": "code",
   "execution_count": null,
   "metadata": {
    "collapsed": true
   },
   "outputs": [],
   "source": [
    "def Corr():"
   ]
  },
  {
   "cell_type": "code",
   "execution_count": 5,
   "metadata": {
    "collapsed": true
   },
   "outputs": [],
   "source": [
    "import numpy as np\n",
    "def label_to_ccmat_hard(label, perm_list, Nind): #copy of the matlab code\n",
    "    co_cluster = np.empty((Nind,Nind))           #the idea is to initialize a set NANs that will hold the results\n",
    "    co_cluster[:] = np.NAN()                     #of the hard clustering\n",
    "    tlabel_full = np.empty((Nind,1))             #The original code utilizes the matlab sort function\n",
    "    tlabel_full[:] = np.NAN()                    #Trying to sort from least to greatest on the columns\n",
    "    matlab_sort_by_column(perm_list)\n",
    "    "
   ]
  },
  {
   "cell_type": "code",
   "execution_count": 60,
   "metadata": {
    "collapsed": false
   },
   "outputs": [],
   "source": [
    "a = np.array([[3,2,1],[5,4,6],[8,1,6],[4,6,8]])\n",
    "def matlab_sort_by_column(matrix): #This function is supposed to track how the columns of each matrix is sorted\n",
    "    q = np.sort(matrix,axis=0)\n",
    "    z = np.empty([len(matrix[:,0]),len(matrix[0,:])]) #Works, but some trouble with duplicate numbers. Should be okay.\n",
    "    for j in range(len(matrix[0,:])):\n",
    "        for k in range(len(matrix[:,0])):            \n",
    "            z[k,j] = list(q[:,j]).index(matrix[k,j])\n",
    "            print z[:,2]\n",
    "    return z\n",
    "    return q\n",
    "    #print matrix"
   ]
  },
  {
   "cell_type": "code",
   "execution_count": 58,
   "metadata": {
    "collapsed": false
   },
   "outputs": [
    {
     "name": "stdout",
     "output_type": "stream",
     "text": [
      "[ 0.  1.  1.  3.]\n",
      "[ 0.  1.  1.  3.]\n",
      "[ 0.  1.  1.  3.]\n",
      "[ 0.  1.  1.  3.]\n",
      "[ 0.  1.  1.  3.]\n",
      "[ 0.  1.  1.  3.]\n",
      "[ 0.  1.  1.  3.]\n",
      "[ 0.  1.  1.  3.]\n",
      "[ 0.  1.  1.  3.]\n",
      "[ 0.  1.  1.  3.]\n",
      "[ 0.  1.  1.  3.]\n",
      "[ 0.  1.  1.  3.]\n",
      "[[ 1.  2.  1.]\n",
      " [ 3.  3.  2.]\n",
      " [ 4.  1.  2.]\n",
      " [ 2.  4.  4.]]\n"
     ]
    }
   ],
   "source": []
  },
  {
   "cell_type": "code",
   "execution_count": 63,
   "metadata": {
    "collapsed": false
   },
   "outputs": [
    {
     "data": {
      "text/plain": [
       "nan"
      ]
     },
     "execution_count": 63,
     "metadata": {},
     "output_type": "execute_result"
    }
   ],
   "source": [
    "np.NAN + np.NAN"
   ]
  },
  {
   "cell_type": "code",
   "execution_count": 3,
   "metadata": {
    "collapsed": false
   },
   "outputs": [
    {
     "ename": "IndentationError",
     "evalue": "expected an indented block (<ipython-input-3-2909462299cf>, line 2)",
     "output_type": "error",
     "traceback": [
      "\u001b[1;36m  File \u001b[1;32m\"<ipython-input-3-2909462299cf>\"\u001b[1;36m, line \u001b[1;32m2\u001b[0m\n\u001b[1;33m    \u001b[0m\n\u001b[1;37m    ^\u001b[0m\n\u001b[1;31mIndentationError\u001b[0m\u001b[1;31m:\u001b[0m expected an indented block\n"
     ]
    }
   ],
   "source": [
    "def label_to_ccmat_soft():\n",
    "    "
   ]
  },
  {
   "cell_type": "code",
   "execution_count": null,
   "metadata": {
    "collapsed": true
   },
   "outputs": [],
   "source": [
    "def label_to_ccmat_corr(H, perm_list, Nind):\n",
    "    co_cluster = np.empty(Nind, Nind)\n",
    "    co_luster[:] = np.NAN()"
   ]
  }
 ],
 "metadata": {
  "kernelspec": {
   "display_name": "Python 2",
   "language": "python",
   "name": "python2"
  },
  "language_info": {
   "codemirror_mode": {
    "name": "ipython",
    "version": 2
   },
   "file_extension": ".py",
   "mimetype": "text/x-python",
   "name": "python",
   "nbconvert_exporter": "python",
   "pygments_lexer": "ipython2",
   "version": "2.7.11"
  }
 },
 "nbformat": 4,
 "nbformat_minor": 0
}
